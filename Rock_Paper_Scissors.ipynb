{
 "cells": [
  {
   "cell_type": "markdown",
   "metadata": {},
   "source": [
    "<img src='graphics/rock_paper_scissors__2x.png' width=450>\n",
    "\n",
    "# Rock, Paper, Scissors\n",
    "\n",
    "In this is challenge you will make a two versiona of the classic \"Rock-Paper-Scissors\" game. The first version will be human versus computer, and the second will be computer versus computer. This challenge will work your skills in several areas of both coding and logic.\n",
    "\n",
    "Remember the rules:\n",
    "- Rock beats scissors\n",
    "- Scissors beat paper\n",
    "- Paper beats rock\n",
    "\n",
    "Given your experience in Python, push yourself to go beyond the simple game. For example, \n",
    "- Add features and 'cool' factors to your code. \n",
    "- Maximize your use of Functions as you can. \n",
    "- Use dictionaries if you want (there are solutions where they can be used and solutions where they aren't necessary). \n",
    "- Make your final program a *.py* file. \n",
    "- Record and analyze player results. \n",
    "- Rather than a two player game (computer being one player), make it a multi-player game. \n",
    "- Add secret plays, similar to video games, to your game such as \n",
    "    - bonuses that unlock after players make a certain score\n",
    "    - super charged plays where the player (computer or human) earns banked wildcards\n",
    "    - obstacle plays\n",
    "- OR for a real challenge, \n",
    "    - add pictures that equate to each player's answer\n",
    "    - add pictures that equate to each player\n",
    "\n",
    "These are just some ideas. \n",
    "\n",
    "# Human versus computer version"
   ]
  },
  {
   "cell_type": "code",
   "execution_count": null,
   "metadata": {},
   "outputs": [],
   "source": []
  },
  {
   "cell_type": "markdown",
   "metadata": {},
   "source": [
    "# Computer versus computer version"
   ]
  },
  {
   "cell_type": "code",
   "execution_count": null,
   "metadata": {},
   "outputs": [],
   "source": []
  },
  {
   "cell_type": "markdown",
   "metadata": {},
   "source": [
    "# Player selects HvC or CvC version"
   ]
  },
  {
   "cell_type": "code",
   "execution_count": null,
   "metadata": {},
   "outputs": [],
   "source": []
  },
  {
   "cell_type": "markdown",
   "metadata": {},
   "source": [
    "# Multi-player version"
   ]
  },
  {
   "cell_type": "code",
   "execution_count": null,
   "metadata": {},
   "outputs": [],
   "source": []
  },
  {
   "cell_type": "markdown",
   "metadata": {},
   "source": [
    "# Analyze plays: Top Choice\n",
    "\n",
    "Of the three choices that a player has in this game (rock, paper, or scissors), which choice renders the highest probability of winning games? "
   ]
  },
  {
   "cell_type": "code",
   "execution_count": null,
   "metadata": {},
   "outputs": [],
   "source": []
  },
  {
   "cell_type": "code",
   "execution_count": null,
   "metadata": {},
   "outputs": [],
   "source": []
  },
  {
   "cell_type": "code",
   "execution_count": null,
   "metadata": {},
   "outputs": [],
   "source": []
  }
 ],
 "metadata": {
  "kernelspec": {
   "display_name": "Python 3",
   "language": "python",
   "name": "python3"
  },
  "language_info": {
   "codemirror_mode": {
    "name": "ipython",
    "version": 3
   },
   "file_extension": ".py",
   "mimetype": "text/x-python",
   "name": "python",
   "nbconvert_exporter": "python",
   "pygments_lexer": "ipython3",
   "version": "3.7.4"
  },
  "toc": {
   "base_numbering": 1,
   "nav_menu": {},
   "number_sections": true,
   "sideBar": true,
   "skip_h1_title": false,
   "title_cell": "Table of Contents",
   "title_sidebar": "Contents",
   "toc_cell": false,
   "toc_position": {},
   "toc_section_display": true,
   "toc_window_display": false
  }
 },
 "nbformat": 4,
 "nbformat_minor": 2
}
