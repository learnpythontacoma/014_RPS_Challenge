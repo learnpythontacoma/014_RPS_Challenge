{
 "cells": [
  {
   "cell_type": "markdown",
   "metadata": {},
   "source": [
    "<img src='graphics/rock_paper_scissors__2x.png' width=450>\n",
    "\n",
    "# Rock, Paper, Scissors\n",
    "\n",
    "This is challenge you will make a computer versus human version of the classic \"Rock-Paper-Scissors\" game. This challenge will work with your skills in several areas of both coding and logic.\n",
    "\n",
    "Remember the rules:\n",
    "- Rock beats scissors\n",
    "- Scissors beat paper\n",
    "- Paper beats rock\n",
    "\n",
    "Given your experience in Python, push yourself to go beyond the simple game. For example, \n",
    "- Add features and 'cool' factors to your code. \n",
    "- Maximize your use of Functions as you can. \n",
    "- Use dictionaries if you want (there are solutions where they can be used and solutions where they aren't necessary). \n",
    "- Make your final program a *.py* file if you would like. \n",
    "- Record and analyze player results. \n",
    "- Rather than a two player game (computer being one player), make it a multi-player game. \n",
    "- Add secret plays, similar to video games, to your game such as \n",
    "    - bonuses that unlock after players make a certain score\n",
    "    - super charged plays such as in \"Rock-Paper-Scissors-Spock\" where the player (computer or human) earns banked wildcards\n",
    "    - obstacle plays\n",
    "- OR for a real challenge, \n",
    "    - add pictures that equate to each player's answer\n",
    "    - add pictures that equate to each player\n",
    "\n",
    "These are just some ideas. "
   ]
  },
  {
   "cell_type": "markdown",
   "metadata": {},
   "source": [
    "# Human versus computer - a solution\n",
    "\n",
    "This is a very basic text output version of a H2C RPS game.  "
   ]
  },
  {
   "cell_type": "code",
   "execution_count": 71,
   "metadata": {
    "ExecuteTime": {
     "end_time": "2020-03-29T22:29:23.026961Z",
     "start_time": "2020-03-29T22:29:23.017795Z"
    }
   },
   "outputs": [],
   "source": [
    "#Function to play - makes comparison of answers\n",
    "def compare(u1, u2):\n",
    "    if u1 == u2:\n",
    "        win = 'tie'\n",
    "        return(\"It's a tie!\"), win\n",
    "    elif u1 == 'rock':\n",
    "        if u2 == 'scissors':\n",
    "            win = 'human'\n",
    "            return(\"Rock wins!\"), win\n",
    "        else:\n",
    "            win = 'computer'\n",
    "            return(\"Paper wins!\"), win\n",
    "    elif u1 == 'scissors':\n",
    "        if u2 == 'paper':\n",
    "            win = 'human'\n",
    "            return(\"Scissors win!\"), win\n",
    "        else:\n",
    "            win = 'computer'\n",
    "            return(\"Rock wins!\"),win\n",
    "    elif u1 == 'paper':\n",
    "        if u2 == 'rock':\n",
    "            win = 'human'\n",
    "            return(\"Paper wins!\"), win\n",
    "        else:\n",
    "            win = 'computer'\n",
    "            return(\"Scissors win!\"), win\n",
    "    else:\n",
    "        return(\"Invalid input! You have not entered rock, paper or scissors, try again. \")\n",
    "\n",
    "#-----------------------------\n"
   ]
  },
  {
   "cell_type": "code",
   "execution_count": 73,
   "metadata": {
    "ExecuteTime": {
     "end_time": "2020-03-29T22:32:03.517590Z",
     "start_time": "2020-03-29T22:31:39.878183Z"
    },
    "hide_input": false,
    "scrolled": false
   },
   "outputs": [
    {
     "name": "stdout",
     "output_type": "stream",
     "text": [
      "What's your name? Joe\n",
      "My name is Wesley.\n",
      "Joe, do yo want to choose rock, paper or scissors? rock\n",
      "I selected paper\n",
      "Paper wins!\n",
      "Would you like to play again? yes or no hello\n",
      "Please select yes or no yes\n",
      "Joe, do yo want to choose rock, paper or scissors? paper\n",
      "I selected paper\n",
      "It's a tie!\n",
      "Would you like to play again? yes or no yes\n",
      "Joe, do yo want to choose rock, paper or scissors? scissors\n",
      "I selected rock\n",
      "Rock wins!\n",
      "Would you like to play again? yes or no no\n"
     ]
    },
    {
     "data": {
      "text/html": [
       "<div>\n",
       "<style scoped>\n",
       "    .dataframe tbody tr th:only-of-type {\n",
       "        vertical-align: middle;\n",
       "    }\n",
       "\n",
       "    .dataframe tbody tr th {\n",
       "        vertical-align: top;\n",
       "    }\n",
       "\n",
       "    .dataframe thead th {\n",
       "        text-align: right;\n",
       "    }\n",
       "</style>\n",
       "<table border=\"1\" class=\"dataframe\">\n",
       "  <thead>\n",
       "    <tr style=\"text-align: right;\">\n",
       "      <th></th>\n",
       "      <th>Round</th>\n",
       "      <th>Player 1</th>\n",
       "      <th>Computer</th>\n",
       "      <th>Winner</th>\n",
       "    </tr>\n",
       "  </thead>\n",
       "  <tbody>\n",
       "    <tr>\n",
       "      <th>0</th>\n",
       "      <td>1</td>\n",
       "      <td>rock</td>\n",
       "      <td>paper</td>\n",
       "      <td>computer</td>\n",
       "    </tr>\n",
       "    <tr>\n",
       "      <th>1</th>\n",
       "      <td>2</td>\n",
       "      <td>paper</td>\n",
       "      <td>paper</td>\n",
       "      <td>tie</td>\n",
       "    </tr>\n",
       "    <tr>\n",
       "      <th>2</th>\n",
       "      <td>3</td>\n",
       "      <td>scissors</td>\n",
       "      <td>rock</td>\n",
       "      <td>computer</td>\n",
       "    </tr>\n",
       "  </tbody>\n",
       "</table>\n",
       "</div>"
      ],
      "text/plain": [
       "  Round  Player 1 Computer    Winner\n",
       "0     1      rock    paper  computer\n",
       "1     2     paper    paper       tie\n",
       "2     3  scissors     rock  computer"
      ]
     },
     "execution_count": 73,
     "metadata": {},
     "output_type": "execute_result"
    }
   ],
   "source": [
    "#Library upload\n",
    "\n",
    "import random\n",
    "import pandas as pd\n",
    "\n",
    "#create the DF\n",
    "df = pd.DataFrame(columns=['Round', 'Player 1', 'Computer'])\n",
    "\n",
    "#define players\n",
    "user1 = input(\"What's your name? \")\n",
    "user2 = print(\"My name is Wesley.\")\n",
    "choices = ['rock', 'paper', 'scissors']\n",
    "select_answers = ['yes', 'no']\n",
    "select = 'yes'\n",
    "game_count = 0\n",
    "while select == 'yes':\n",
    "\n",
    "    human_answer = input(\"%s, do yo want to choose rock, paper or scissors? \" % user1)\n",
    "\n",
    "    #make sure the human is not fooling around\n",
    "    if human_answer not in choices:\n",
    "        human_answer = input(\"Please select either rock, paper or scissors: \")\n",
    "\n",
    "    #computer selects its play\n",
    "    computer_answer = choices[random.randint(0,2)]\n",
    "\n",
    "    print('I selected', computer_answer)\n",
    "\n",
    "    #---------------------------\n",
    "\n",
    "    #Actually play the game here. \n",
    "    a, b = compare(human_answer, computer_answer)\n",
    "    print(a)\n",
    "    df.loc[game_count, 'Round'] = game_count+1\n",
    "    df.loc[game_count, 'Player 1'] = human_answer\n",
    "    df.loc[game_count, 'Computer'] = computer_answer\n",
    "    df.loc[game_count, 'Winner'] = b\n",
    "    game_count += 1\n",
    "    select = input('Would you like to play again? yes or no ')\n",
    "    if select not in select_answers:\n",
    "        select = input('Please select yes or no ')\n",
    "    \n",
    "df.head()"
   ]
  },
  {
   "cell_type": "code",
   "execution_count": 67,
   "metadata": {
    "ExecuteTime": {
     "end_time": "2020-03-29T22:15:29.597980Z",
     "start_time": "2020-03-29T22:15:29.581655Z"
    }
   },
   "outputs": [
    {
     "data": {
      "text/html": [
       "<div>\n",
       "<style scoped>\n",
       "    .dataframe tbody tr th:only-of-type {\n",
       "        vertical-align: middle;\n",
       "    }\n",
       "\n",
       "    .dataframe tbody tr th {\n",
       "        vertical-align: top;\n",
       "    }\n",
       "\n",
       "    .dataframe thead th {\n",
       "        text-align: right;\n",
       "    }\n",
       "</style>\n",
       "<table border=\"1\" class=\"dataframe\">\n",
       "  <thead>\n",
       "    <tr style=\"text-align: right;\">\n",
       "      <th></th>\n",
       "      <th>Round</th>\n",
       "      <th>Player 1</th>\n",
       "      <th>Computer</th>\n",
       "    </tr>\n",
       "  </thead>\n",
       "  <tbody>\n",
       "    <tr>\n",
       "      <th>0</th>\n",
       "      <td>1</td>\n",
       "      <td>paper</td>\n",
       "      <td>scissors</td>\n",
       "    </tr>\n",
       "    <tr>\n",
       "      <th>1</th>\n",
       "      <td>2</td>\n",
       "      <td>rock</td>\n",
       "      <td>scissors</td>\n",
       "    </tr>\n",
       "    <tr>\n",
       "      <th>2</th>\n",
       "      <td>3</td>\n",
       "      <td>scissors</td>\n",
       "      <td>scissors</td>\n",
       "    </tr>\n",
       "  </tbody>\n",
       "</table>\n",
       "</div>"
      ],
      "text/plain": [
       "  Round  Player 1  Computer\n",
       "0     1     paper  scissors\n",
       "1     2      rock  scissors\n",
       "2     3  scissors  scissors"
      ]
     },
     "metadata": {},
     "output_type": "display_data"
    },
    {
     "data": {
      "text/html": [
       "<div>\n",
       "<style scoped>\n",
       "    .dataframe tbody tr th:only-of-type {\n",
       "        vertical-align: middle;\n",
       "    }\n",
       "\n",
       "    .dataframe tbody tr th {\n",
       "        vertical-align: top;\n",
       "    }\n",
       "\n",
       "    .dataframe thead th {\n",
       "        text-align: right;\n",
       "    }\n",
       "</style>\n",
       "<table border=\"1\" class=\"dataframe\">\n",
       "  <thead>\n",
       "    <tr style=\"text-align: right;\">\n",
       "      <th></th>\n",
       "      <th>0</th>\n",
       "      <th>1</th>\n",
       "      <th>2</th>\n",
       "    </tr>\n",
       "  </thead>\n",
       "  <tbody>\n",
       "    <tr>\n",
       "      <th>Round</th>\n",
       "      <td>1</td>\n",
       "      <td>2</td>\n",
       "      <td>3</td>\n",
       "    </tr>\n",
       "    <tr>\n",
       "      <th>Player 1</th>\n",
       "      <td>paper</td>\n",
       "      <td>rock</td>\n",
       "      <td>scissors</td>\n",
       "    </tr>\n",
       "    <tr>\n",
       "      <th>Computer</th>\n",
       "      <td>scissors</td>\n",
       "      <td>scissors</td>\n",
       "      <td>scissors</td>\n",
       "    </tr>\n",
       "  </tbody>\n",
       "</table>\n",
       "</div>"
      ],
      "text/plain": [
       "                 0         1         2\n",
       "Round            1         2         3\n",
       "Player 1     paper      rock  scissors\n",
       "Computer  scissors  scissors  scissors"
      ]
     },
     "metadata": {},
     "output_type": "display_data"
    }
   ],
   "source": [
    "display(df.head())\n",
    "\n",
    "display(df.head().T)"
   ]
  },
  {
   "cell_type": "markdown",
   "metadata": {},
   "source": [
    "# Computer versus computer - a solution\n",
    "\n",
    "This is a more advanced C2C version of RPS."
   ]
  },
  {
   "cell_type": "code",
   "execution_count": 43,
   "metadata": {
    "ExecuteTime": {
     "end_time": "2020-03-29T18:24:57.163527Z",
     "start_time": "2020-03-29T18:24:57.053528Z"
    },
    "hide_input": false,
    "scrolled": true
   },
   "outputs": [
    {
     "name": "stdout",
     "output_type": "stream",
     "text": [
      "We will play 9 games.\n"
     ]
    },
    {
     "data": {
      "image/png": "[encoded data removed]",
      "text/plain": [
       "<IPython.core.display.Image object>"
      ]
     },
     "metadata": {
      "image/png": {
       "width": 50
      }
     },
     "output_type": "display_data"
    },
    {
     "data": {
      "image/png": "[encoded data removed]",
      "text/plain": [
       "<IPython.core.display.Image object>"
      ]
     },
     "metadata": {
      "image/png": {
       "width": 50
      }
     },
     "output_type": "display_data"
    },
    {
     "name": "stdout",
     "output_type": "stream",
     "text": [
      "Player 2: Rock wins\n",
      "-------------------------\n"
     ]
    },
    {
     "data": {
      "image/png": "[encoded data removed]",
      "text/plain": [
       "<IPython.core.display.Image object>"
      ]
     },
     "metadata": {
      "image/png": {
       "width": 50
      }
     },
     "output_type": "display_data"
    },
    {
     "data": {
      "image/png": "[encoded data removed]",
      "text/plain": [
       "<IPython.core.display.Image object>"
      ]
     },
     "metadata": {
      "image/png": {
       "width": 50
      }
     },
     "output_type": "display_data"
    },
    {
     "name": "stdout",
     "output_type": "stream",
     "text": [
      "Tied\n",
      "-------------------------\n"
     ]
    },
    {
     "data": {
      "image/png": "[encoded data removed]",
      "text/plain": [
       "<IPython.core.display.Image object>"
      ]
     },
     "metadata": {
      "image/png": {
       "width": 50
      }
     },
     "output_type": "display_data"
    },
    {
     "data": {
      "image/png": "[encoded data removed]",
      "text/plain": [
       "<IPython.core.display.Image object>"
      ]
     },
     "metadata": {
      "image/png": {
       "width": 50
      }
     },
     "output_type": "display_data"
    },
    {
     "name": "stdout",
     "output_type": "stream",
     "text": [
      "Player 1: Paper wins\n",
      "-------------------------\n"
     ]
    },
    {
     "data": {
      "image/png": "[encoded data removed]",
      "text/plain": [
       "<IPython.core.display.Image object>"
      ]
     },
     "metadata": {
      "image/png": {
       "width": 50
      }
     },
     "output_type": "display_data"
    },
    {
     "data": {
      "image/png": "[encoded data removed]",
      "text/plain": [
       "<IPython.core.display.Image object>"
      ]
     },
     "metadata": {
      "image/png": {
       "width": 50
      }
     },
     "output_type": "display_data"
    },
    {
     "name": "stdout",
     "output_type": "stream",
     "text": [
      "Tied\n",
      "-------------------------\n"
     ]
    },
    {
     "data": {
      "image/png": "[encoded data removed]",
      "text/plain": [
       "<IPython.core.display.Image object>"
      ]
     },
     "metadata": {
      "image/png": {
       "width": 50
      }
     },
     "output_type": "display_data"
    },
    {
     "data": {
      "image/png": "[encoded data removed]",
      "text/plain": [
       "<IPython.core.display.Image object>"
      ]
     },
     "metadata": {
      "image/png": {
       "width": 50
      }
     },
     "output_type": "display_data"
    },
    {
     "name": "stdout",
     "output_type": "stream",
     "text": [
      "Tied\n",
      "-------------------------\n"
     ]
    },
    {
     "data": {
      "image/png": "[encoded data removed]",
      "text/plain": [
       "<IPython.core.display.Image object>"
      ]
     },
     "metadata": {
      "image/png": {
       "width": 50
      }
     },
     "output_type": "display_data"
    },
    {
     "data": {
      "image/png": "[encoded data removed]",
      "text/plain": [
       "<IPython.core.display.Image object>"
      ]
     },
     "metadata": {
      "image/png": {
       "width": 50
      }
     },
     "output_type": "display_data"
    },
    {
     "name": "stdout",
     "output_type": "stream",
     "text": [
      "Player 1: Paper wins\n",
      "-------------------------\n"
     ]
    },
    {
     "data": {
      "image/png": "[encoded data removed]",
      "text/plain": [
       "<IPython.core.display.Image object>"
      ]
     },
     "metadata": {
      "image/png": {
       "width": 50
      }
     },
     "output_type": "display_data"
    },
    {
     "data": {
      "image/png": "[encoded data removed]",
      "text/plain": [
       "<IPython.core.display.Image object>"
      ]
     },
     "metadata": {
      "image/png": {
       "width": 50
      }
     },
     "output_type": "display_data"
    },
    {
     "name": "stdout",
     "output_type": "stream",
     "text": [
      "Player 1: Scissors wins\n",
      "-------------------------\n"
     ]
    },
    {
     "data": {
      "image/png": "[encoded data removed]",
      "text/plain": [
       "<IPython.core.display.Image object>"
      ]
     },
     "metadata": {
      "image/png": {
       "width": 50
      }
     },
     "output_type": "display_data"
    },
    {
     "data": {
      "image/png": "[encoded data removed]",
      "text/plain": [
       "<IPython.core.display.Image object>"
      ]
     },
     "metadata": {
      "image/png": {
       "width": 50
      }
     },
     "output_type": "display_data"
    },
    {
     "name": "stdout",
     "output_type": "stream",
     "text": [
      "Tied\n",
      "-------------------------\n"
     ]
    },
    {
     "data": {
      "image/png": "[encoded data removed]",
      "text/plain": [
       "<IPython.core.display.Image object>"
      ]
     },
     "metadata": {
      "image/png": {
       "width": 50
      }
     },
     "output_type": "display_data"
    },
    {
     "data": {
      "image/png": "[encoded data removed]",
      "text/plain": [
       "<IPython.core.display.Image object>"
      ]
     },
     "metadata": {
      "image/png": {
       "width": 50
      }
     },
     "output_type": "display_data"
    },
    {
     "name": "stdout",
     "output_type": "stream",
     "text": [
      "Tied\n",
      "-------------------------\n",
      "Player 1 final score: 3 \n",
      " Player 2 final score: 1 \n",
      " Tied Games: 5\n"
     ]
    },
    {
     "data": {
      "text/html": [
       "<div>\n",
       "<style scoped>\n",
       "    .dataframe tbody tr th:only-of-type {\n",
       "        vertical-align: middle;\n",
       "    }\n",
       "\n",
       "    .dataframe tbody tr th {\n",
       "        vertical-align: top;\n",
       "    }\n",
       "\n",
       "    .dataframe thead th {\n",
       "        text-align: right;\n",
       "    }\n",
       "</style>\n",
       "<table border=\"1\" class=\"dataframe\">\n",
       "  <thead>\n",
       "    <tr style=\"text-align: right;\">\n",
       "      <th></th>\n",
       "      <th>1</th>\n",
       "      <th>2</th>\n",
       "      <th>3</th>\n",
       "      <th>4</th>\n",
       "      <th>5</th>\n",
       "      <th>6</th>\n",
       "      <th>7</th>\n",
       "      <th>8</th>\n",
       "      <th>9</th>\n",
       "    </tr>\n",
       "  </thead>\n",
       "  <tbody>\n",
       "    <tr>\n",
       "      <th>game</th>\n",
       "      <td>1</td>\n",
       "      <td>2</td>\n",
       "      <td>3</td>\n",
       "      <td>4</td>\n",
       "      <td>5</td>\n",
       "      <td>6</td>\n",
       "      <td>7</td>\n",
       "      <td>8</td>\n",
       "      <td>9</td>\n",
       "    </tr>\n",
       "    <tr>\n",
       "      <th>player 1</th>\n",
       "      <td>0</td>\n",
       "      <td>0</td>\n",
       "      <td>1</td>\n",
       "      <td>0</td>\n",
       "      <td>0</td>\n",
       "      <td>1</td>\n",
       "      <td>1</td>\n",
       "      <td>0</td>\n",
       "      <td>0</td>\n",
       "    </tr>\n",
       "    <tr>\n",
       "      <th>player 2</th>\n",
       "      <td>1</td>\n",
       "      <td>0</td>\n",
       "      <td>0</td>\n",
       "      <td>0</td>\n",
       "      <td>0</td>\n",
       "      <td>0</td>\n",
       "      <td>0</td>\n",
       "      <td>0</td>\n",
       "      <td>0</td>\n",
       "    </tr>\n",
       "    <tr>\n",
       "      <th>player 1 selection</th>\n",
       "      <td>scissors</td>\n",
       "      <td>scissors</td>\n",
       "      <td>paper</td>\n",
       "      <td>paper</td>\n",
       "      <td>scissors</td>\n",
       "      <td>paper</td>\n",
       "      <td>scissors</td>\n",
       "      <td>rock</td>\n",
       "      <td>rock</td>\n",
       "    </tr>\n",
       "    <tr>\n",
       "      <th>player 2 selection</th>\n",
       "      <td>rock</td>\n",
       "      <td>scissors</td>\n",
       "      <td>rock</td>\n",
       "      <td>paper</td>\n",
       "      <td>scissors</td>\n",
       "      <td>rock</td>\n",
       "      <td>paper</td>\n",
       "      <td>rock</td>\n",
       "      <td>rock</td>\n",
       "    </tr>\n",
       "  </tbody>\n",
       "</table>\n",
       "</div>"
      ],
      "text/plain": [
       "                           1         2      3      4         5      6  \\\n",
       "game                       1         2      3      4         5      6   \n",
       "player 1                   0         0      1      0         0      1   \n",
       "player 2                   1         0      0      0         0      0   \n",
       "player 1 selection  scissors  scissors  paper  paper  scissors  paper   \n",
       "player 2 selection      rock  scissors   rock  paper  scissors   rock   \n",
       "\n",
       "                           7     8     9  \n",
       "game                       7     8     9  \n",
       "player 1                   1     0     0  \n",
       "player 2                   0     0     0  \n",
       "player 1 selection  scissors  rock  rock  \n",
       "player 2 selection     paper  rock  rock  "
      ]
     },
     "execution_count": 43,
     "metadata": {},
     "output_type": "execute_result"
    }
   ],
   "source": [
    "#Load our needed libraries\n",
    "import random\n",
    "from IPython.display import Image\n",
    "import pandas as pd\n",
    "import matplotlib.pyplot as plt\n",
    "import seaborn as sns\n",
    "%matplotlib inline\n",
    "\n",
    "#--------------------------------------------\n",
    "#Load some variables, a DF, and conditions for our game\n",
    "columns = ['game', 'player 1', 'player 2', 'player 1 selection', 'player 2 selection'] # What columns we want in our subsequent DataFrame\n",
    "\n",
    "df = pd.DataFrame(columns = columns)# Establish our DataFrame\n",
    "\n",
    "#Assign our pictures to a variable\n",
    "rock = 'graphics/rock.png'\n",
    "paper = 'graphics/paper.png'\n",
    "scissors = 'graphics/scissors.png'\n",
    "\n",
    "tied_games = 0 #Establish a variable called 'tied_games'\n",
    "\n",
    "game_play = random.randint(3,13) #the number of games we will play\n",
    "\n",
    "print('We will play', (game_play - 1),'games.')\n",
    "\n",
    "#---------------------------------------------\n",
    "#Our Game Loop\n",
    "for i in range(1, game_play):\n",
    "    \n",
    "    df.loc[i, 'game'] = i\n",
    "\n",
    "    # Generate each computer player's random answer\n",
    "    c1_answer = random.randint(1,3)\n",
    "    c2_answer = random.randint(1,3)\n",
    "    \n",
    "    # Display the appropriate picture for player one's answer\n",
    "    if c1_answer == 1:\n",
    "        display(Image(filename=rock, width=50))\n",
    "    elif c1_answer == 2:\n",
    "        display(Image(filename=paper, width=50))\n",
    "    elif c1_answer == 3:\n",
    "        display(Image(filename=scissors, width=50)) \n",
    "    \n",
    "    # Display the appropriate picture for player two's answer\n",
    "    if c2_answer == 1:\n",
    "        display(Image(filename=rock, width=50))\n",
    "    elif c2_answer == 2:\n",
    "        display(Image(filename=paper, width=50)) \n",
    "    elif c2_answer == 3:\n",
    "        display(Image(filename=scissors, width=50)) \n",
    "    \n",
    "    \n",
    "    if c1_answer == 1 and c2_answer == 2: # p1 = rock, p2 = paper\n",
    "        print('Player 2: Paper wins')\n",
    "        df.loc[i, 'player 2'] = 1\n",
    "        df.loc[i, 'player 1'] = 0\n",
    "        df.loc[i, 'player 1 selection'] = 'rock'\n",
    "        df.loc[i, 'player 2 selection'] = 'paper'\n",
    "        \n",
    "    elif c1_answer == 1 and c2_answer == 3: # p1 = rock, p2 = scissors\n",
    "        print('Player 1: Rock wins')\n",
    "        df.loc[i, 'player 2'] = 0\n",
    "        df.loc[i, 'player 1'] = 1\n",
    "        df.loc[i, 'player 1 selection'] = 'rock'\n",
    "        df.loc[i, 'player 2 selection'] = 'scissors'\n",
    "        \n",
    "        \n",
    "    elif c1_answer == 1 and c2_answer == 1: # p1 = rock, p2 = rock\n",
    "        print('Tied')\n",
    "        tied_games += 1\n",
    "        df.loc[i, 'player 2'] = 0\n",
    "        df.loc[i, 'player 1'] = 0\n",
    "        df.loc[i, 'player 1 selection'] = 'rock'\n",
    "        df.loc[i, 'player 2 selection'] = 'rock'\n",
    "        \n",
    "        \n",
    "    elif c1_answer == 2 and c2_answer == 1: # p1 = paper, p2 = rock\n",
    "        print('Player 1: Paper wins')\n",
    "        df.loc[i, 'player 2'] = 0\n",
    "        df.loc[i, 'player 1'] = 1\n",
    "        df.loc[i, 'player 1 selection'] = 'paper'\n",
    "        df.loc[i, 'player 2 selection'] = 'rock'\n",
    "        \n",
    "        \n",
    "    elif c1_answer == 2 and c2_answer == 2: # p1 = paper, p2 = paper\n",
    "        print('Tied')\n",
    "        tied_games += 1\n",
    "        df.loc[i, 'player 2'] = 0\n",
    "        df.loc[i, 'player 1'] = 0\n",
    "        df.loc[i, 'player 1 selection'] = 'paper'\n",
    "        df.loc[i, 'player 2 selection'] = 'paper'\n",
    "        \n",
    "        \n",
    "    elif c1_answer == 2 and c2_answer == 3: # p1 = paper, p2 = scissors\n",
    "        print('Player 2: Scissors wins')\n",
    "        df.loc[i, 'player 2'] = 1\n",
    "        df.loc[i, 'player 1'] = 0\n",
    "        df.loc[i, 'player 1 selection'] = 'paper'\n",
    "        df.loc[i, 'player 2 selection'] = 'scissors'\n",
    "        \n",
    "        \n",
    "    elif c1_answer == 3 and c2_answer ==1: # p1 = scissors, p2 = rock\n",
    "        print('Player 2: Rock wins')\n",
    "        df.loc[i, 'player 2'] = 1\n",
    "        df.loc[i, 'player 1'] = 0\n",
    "        df.loc[i, 'player 1 selection'] = 'scissors'\n",
    "        df.loc[i, 'player 2 selection'] = 'rock'\n",
    "        \n",
    "        \n",
    "    elif c1_answer == 3 and c2_answer == 2: # p1 = scissors, p2 = paper\n",
    "        print('Player 1: Scissors wins')\n",
    "        df.loc[i, 'player 2'] = 0\n",
    "        df.loc[i, 'player 1'] = 1\n",
    "        df.loc[i, 'player 1 selection'] = 'scissors'\n",
    "        df.loc[i, 'player 2 selection'] = 'paper'\n",
    "        \n",
    "        \n",
    "    elif c1_answer == 3 and c2_answer == 3: # p1 = scissors, p2 = scissors\n",
    "        print('Tied')\n",
    "        tied_games += 1\n",
    "        df.loc[i, 'player 2'] = 0\n",
    "        df.loc[i, 'player 1'] = 0\n",
    "        df.loc[i, 'player 1 selection'] = 'scissors'\n",
    "        df.loc[i, 'player 2 selection'] = 'scissors'\n",
    "        \n",
    "    \n",
    "    print(\"-\"*25)\n",
    "\n",
    "# Analysis - sum of each player column\n",
    "p1_total = df['player 1'].sum()\n",
    "p2_total = df['player 2'].sum()\n",
    "\n",
    "print('Player 1 final score:', p1_total, '\\n', \n",
    "      'Player 2 final score:', p2_total, '\\n', \n",
    "     'Tied Games:', tied_games)\n",
    "\n",
    "#----------------------------------\n",
    "#Print out our game card - just to examine it\n",
    "df.T\n",
    "\n"
   ]
  },
  {
   "cell_type": "markdown",
   "metadata": {
    "ExecuteTime": {
     "end_time": "2020-01-26T23:33:28.243423Z",
     "start_time": "2020-01-26T23:33:28.237132Z"
    }
   },
   "source": [
    "# Player selects version - a solution"
   ]
  },
  {
   "cell_type": "code",
   "execution_count": 56,
   "metadata": {
    "ExecuteTime": {
     "end_time": "2020-03-29T18:37:07.391839Z",
     "start_time": "2020-03-29T18:36:56.635593Z"
    },
    "hide_input": false,
    "scrolled": true
   },
   "outputs": [
    {
     "name": "stdout",
     "output_type": "stream",
     "text": [
      "Which game? (Computer vs Computer or Human vs Computer)Human to Computer\n",
      "What's your name?ben\n",
      "My name is Wesley.\n",
      "ben, do yo want to choose rock, paper or scissors?scissors\n",
      "I selected rock\n",
      "Rock wins!\n"
     ]
    }
   ],
   "source": [
    "choice = input('Which game? (Computer vs Computer or Human vs Computer)')\n",
    "\n",
    "if choice == 'Computer vs Computer':\n",
    "    #Load our needed libraries\n",
    "    import random\n",
    "    from IPython.display import Image\n",
    "    import pandas as pd\n",
    "    import matplotlib.pyplot as plt\n",
    "    import seaborn as sns\n",
    "    %matplotlib inline\n",
    "\n",
    "    #--------------------------------------------\n",
    "    #Load some variables, a DF, and conditions for our game\n",
    "    columns = ['game', 'player 1', 'player 2', 'player 1 selection', 'player 2 selection'] # What columns we want in our subsequent DataFrame\n",
    "\n",
    "    df = pd.DataFrame(columns = columns)# Establish our DataFrame\n",
    "\n",
    "    #Assign our pictures to a variable\n",
    "    rock = 'graphics/rock.png'\n",
    "    paper = 'graphics/paper.png'\n",
    "    scissors = 'graphics/scissors.png'\n",
    "\n",
    "    tied_games = 0 #Establish a variable called 'tied_games'\n",
    "\n",
    "    game_play = random.randint(3,13) #the number of games we will play\n",
    "\n",
    "    print('We will play', (game_play - 1),'games.')\n",
    "\n",
    "    #---------------------------------------------\n",
    "    #Our Game Loop\n",
    "    for i in range(1, game_play):\n",
    "\n",
    "        df.loc[i, 'game'] = i\n",
    "\n",
    "        # Generate each computer player's random answer\n",
    "        c1_answer = random.randint(1,3)\n",
    "        c2_answer = random.randint(1,3)\n",
    "\n",
    "        # Display the appropriate picture for player one's answer\n",
    "        if c1_answer == 1:\n",
    "            display(Image(filename=rock, width=50))\n",
    "        elif c1_answer == 2:\n",
    "            display(Image(filename=paper, width=50))\n",
    "        elif c1_answer == 3:\n",
    "            display(Image(filename=scissors, width=50)) \n",
    "\n",
    "        # Display the appropriate picture for player two's answer\n",
    "        if c2_answer == 1:\n",
    "            display(Image(filename=rock, width=50))\n",
    "        elif c2_answer == 2:\n",
    "            display(Image(filename=paper, width=50)) \n",
    "        elif c2_answer == 3:\n",
    "            display(Image(filename=scissors, width=50)) \n",
    "\n",
    "\n",
    "        if c1_answer == 1 and c2_answer == 2: # p1 = rock, p2 = paper\n",
    "            print('Player 2: Paper wins')\n",
    "            df.loc[i, 'player 2'] = 1\n",
    "            df.loc[i, 'player 1'] = 0\n",
    "            df.loc[i, 'player 1 selection'] = 'rock'\n",
    "            df.loc[i, 'player 2 selection'] = 'paper'\n",
    "\n",
    "        elif c1_answer == 1 and c2_answer == 3: # p1 = rock, p2 = scissors\n",
    "            print('Player 1: Rock wins')\n",
    "            df.loc[i, 'player 2'] = 0\n",
    "            df.loc[i, 'player 1'] = 1\n",
    "            df.loc[i, 'player 1 selection'] = 'rock'\n",
    "            df.loc[i, 'player 2 selection'] = 'scissors'\n",
    "\n",
    "\n",
    "        elif c1_answer == 1 and c2_answer == 1: # p1 = rock, p2 = rock\n",
    "            print('Tied')\n",
    "            tied_games += 1\n",
    "            df.loc[i, 'player 2'] = 0\n",
    "            df.loc[i, 'player 1'] = 0\n",
    "            df.loc[i, 'player 1 selection'] = 'rock'\n",
    "            df.loc[i, 'player 2 selection'] = 'rock'\n",
    "\n",
    "\n",
    "        elif c1_answer == 2 and c2_answer == 1: # p1 = paper, p2 = rock\n",
    "            print('Player 1: Paper wins')\n",
    "            df.loc[i, 'player 2'] = 0\n",
    "            df.loc[i, 'player 1'] = 1\n",
    "            df.loc[i, 'player 1 selection'] = 'paper'\n",
    "            df.loc[i, 'player 2 selection'] = 'rock'\n",
    "\n",
    "\n",
    "        elif c1_answer == 2 and c2_answer == 2: # p1 = paper, p2 = paper\n",
    "            print('Tied')\n",
    "            tied_games += 1\n",
    "            df.loc[i, 'player 2'] = 0\n",
    "            df.loc[i, 'player 1'] = 0\n",
    "            df.loc[i, 'player 1 selection'] = 'paper'\n",
    "            df.loc[i, 'player 2 selection'] = 'paper'\n",
    "\n",
    "\n",
    "        elif c1_answer == 2 and c2_answer == 3: # p1 = paper, p2 = scissors\n",
    "            print('Player 2: Scissors wins')\n",
    "            df.loc[i, 'player 2'] = 1\n",
    "            df.loc[i, 'player 1'] = 0\n",
    "            df.loc[i, 'player 1 selection'] = 'paper'\n",
    "            df.loc[i, 'player 2 selection'] = 'scissors'\n",
    "\n",
    "\n",
    "        elif c1_answer == 3 and c2_answer ==1: # p1 = scissors, p2 = rock\n",
    "            print('Player 2: Rock wins')\n",
    "            df.loc[i, 'player 2'] = 1\n",
    "            df.loc[i, 'player 1'] = 0\n",
    "            df.loc[i, 'player 1 selection'] = 'scissors'\n",
    "            df.loc[i, 'player 2 selection'] = 'rock'\n",
    "\n",
    "\n",
    "        elif c1_answer == 3 and c2_answer == 2: # p1 = scissors, p2 = paper\n",
    "            print('Player 1: Scissors wins')\n",
    "            df.loc[i, 'player 2'] = 0\n",
    "            df.loc[i, 'player 1'] = 1\n",
    "            df.loc[i, 'player 1 selection'] = 'scissors'\n",
    "            df.loc[i, 'player 2 selection'] = 'paper'\n",
    "\n",
    "\n",
    "        elif c1_answer == 3 and c2_answer == 3: # p1 = scissors, p2 = scissors\n",
    "            print('Tied')\n",
    "            tied_games += 1\n",
    "            df.loc[i, 'player 2'] = 0\n",
    "            df.loc[i, 'player 1'] = 0\n",
    "            df.loc[i, 'player 1 selection'] = 'scissors'\n",
    "            df.loc[i, 'player 2 selection'] = 'scissors'\n",
    "\n",
    "\n",
    "        print(\"-\"*25)\n",
    "\n",
    "    # Analysis - sum of each player column\n",
    "    p1_total = df['player 1'].sum()\n",
    "    p2_total = df['player 2'].sum()\n",
    "\n",
    "    print('Player 1 final score:', p1_total, '\\n', \n",
    "          'Player 2 final score:', p2_total, '\\n', \n",
    "         'Tied Games:', tied_games)\n",
    "\n",
    "    #----------------------------------\n",
    "    #Print out our game card - just to examine it\n",
    "    display(df.T)\n",
    "\n",
    "    \n",
    "else:\n",
    "    import sys\n",
    "    import random\n",
    "\n",
    "    user1 = input(\"What's your name?\")\n",
    "    user2 = print(\"My name is Wesley.\")\n",
    "    choices = ['rock', 'paper', 'scissors']\n",
    "    user1_answer = input(\"%s, do yo want to choose rock, paper or scissors?\" % user1)\n",
    "\n",
    "\n",
    "    user2_answer = choices[random.randint(0,2)]\n",
    "\n",
    "    print('I selected', user2_answer)\n",
    "\n",
    "    def compare(u1, u2):\n",
    "        if u1 == u2:\n",
    "            return(\"It's a tie!\")\n",
    "        elif u1 == 'rock':\n",
    "            if u2 == 'scissors':\n",
    "                return(\"Rock wins!\")\n",
    "            else:\n",
    "                return(\"Paper wins!\")\n",
    "        elif u1 == 'scissors':\n",
    "            if u2 == 'paper':\n",
    "                return(\"Scissors win!\")\n",
    "            else:\n",
    "                return(\"Rock wins!\")\n",
    "        elif u1 == 'paper':\n",
    "            if u2 == 'rock':\n",
    "                return(\"Paper wins!\")\n",
    "            else:\n",
    "                return(\"Scissors win!\")\n",
    "        else:\n",
    "            return(\"Invalid input! You have not entered rock, paper or scissors, try again.\")\n",
    "            sys.exit()\n",
    "\n",
    "    print(compare(user1_answer, user2_answer))"
   ]
  },
  {
   "cell_type": "code",
   "execution_count": null,
   "metadata": {},
   "outputs": [],
   "source": []
  },
  {
   "cell_type": "code",
   "execution_count": null,
   "metadata": {},
   "outputs": [],
   "source": []
  },
  {
   "cell_type": "markdown",
   "metadata": {},
   "source": [
    "# Multi-player version - a solution"
   ]
  },
  {
   "cell_type": "code",
   "execution_count": null,
   "metadata": {},
   "outputs": [],
   "source": []
  },
  {
   "cell_type": "markdown",
   "metadata": {},
   "source": [
    "# Analyze plays: Top Choice"
   ]
  },
  {
   "cell_type": "code",
   "execution_count": null,
   "metadata": {},
   "outputs": [],
   "source": []
  },
  {
   "cell_type": "code",
   "execution_count": null,
   "metadata": {},
   "outputs": [],
   "source": []
  },
  {
   "cell_type": "code",
   "execution_count": null,
   "metadata": {},
   "outputs": [],
   "source": []
  },
  {
   "cell_type": "code",
   "execution_count": null,
   "metadata": {},
   "outputs": [],
   "source": []
  },
  {
   "cell_type": "code",
   "execution_count": null,
   "metadata": {},
   "outputs": [],
   "source": []
  }
 ],
 "metadata": {
  "kernelspec": {
   "display_name": "Python 3",
   "language": "python",
   "name": "python3"
  },
  "language_info": {
   "codemirror_mode": {
    "name": "ipython",
    "version": 3
   },
   "file_extension": ".py",
   "mimetype": "text/x-python",
   "name": "python",
   "nbconvert_exporter": "python",
   "pygments_lexer": "ipython3",
   "version": "3.7.4"
  },
  "toc": {
   "base_numbering": 1,
   "nav_menu": {},
   "number_sections": true,
   "sideBar": true,
   "skip_h1_title": false,
   "title_cell": "Table of Contents",
   "title_sidebar": "Contents",
   "toc_cell": false,
   "toc_position": {},
   "toc_section_display": true,
   "toc_window_display": false
  }
 },
 "nbformat": 4,
 "nbformat_minor": 2
}
